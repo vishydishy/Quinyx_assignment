{
 "cells": [
  {
   "cell_type": "markdown",
   "id": "df8f2d31",
   "metadata": {},
   "source": [
    "# <h1 style=\"font-size=3rem;color:orange;\"> Jupyter Test run</h1>"
   ]
  },
  {
   "cell_type": "markdown",
   "id": "bf6fa202",
   "metadata": {},
   "source": [
    "# Python"
   ]
  },
  {
   "cell_type": "markdown",
   "id": "95332f98",
   "metadata": {},
   "source": [
    "# Basic test"
   ]
  },
  {
   "cell_type": "code",
   "execution_count": 2,
   "id": "f787bc67",
   "metadata": {},
   "outputs": [
    {
     "name": "stdout",
     "output_type": "stream",
     "text": [
      "hello world\n"
     ]
    }
   ],
   "source": [
    "print(\"hello world\")"
   ]
  },
  {
   "cell_type": "markdown",
   "id": "8fa3c094",
   "metadata": {},
   "source": [
    "# Insert a variable into a string"
   ]
  },
  {
   "cell_type": "code",
   "execution_count": 3,
   "id": "bc13466b",
   "metadata": {},
   "outputs": [
    {
     "name": "stdout",
     "output_type": "stream",
     "text": [
      "name?Vish\n",
      "hello , Vish\n"
     ]
    }
   ],
   "source": [
    "person = input (\"name?\")\n",
    "message = \"hello , {}\".format(person)\n",
    "print(message)"
   ]
  },
  {
   "cell_type": "markdown",
   "id": "f286f6c6",
   "metadata": {},
   "source": [
    "## String input"
   ]
  },
  {
   "cell_type": "code",
   "execution_count": 4,
   "id": "d4b15505",
   "metadata": {},
   "outputs": [
    {
     "name": "stdout",
     "output_type": "stream",
     "text": [
      "Testing all this string\n",
      "23\n"
     ]
    }
   ],
   "source": [
    "sentence = \"\"\"Testing all this string\"\"\"\n",
    "print(sentence)\n",
    "print(len(sentence))"
   ]
  },
  {
   "cell_type": "markdown",
   "id": "7d85e8df",
   "metadata": {},
   "source": [
    "# Math "
   ]
  },
  {
   "cell_type": "code",
   "execution_count": 10,
   "id": "8bcd6635",
   "metadata": {},
   "outputs": [
    {
     "name": "stdout",
     "output_type": "stream",
     "text": [
      "5.25\n",
      "1\n"
     ]
    }
   ],
   "source": [
    "x = 7 \n",
    "y = 4 \n",
    "z= (x*3) / y \n",
    "m= (x*3) % y \n",
    "print(z) \n",
    "print (m)"
   ]
  },
  {
   "cell_type": "markdown",
   "id": "591745f3",
   "metadata": {},
   "source": [
    "# Lists (array) "
   ]
  },
  {
   "cell_type": "code",
   "execution_count": 11,
   "id": "40529d2a",
   "metadata": {},
   "outputs": [
    {
     "name": "stdout",
     "output_type": "stream",
     "text": [
      "['Jack', 'Ram', 'luke']\n",
      "luke\n"
     ]
    }
   ],
   "source": [
    "friend = ['Jack', 'Ram', 'luke']\n",
    "print(friend)\n",
    "print(friend[2])"
   ]
  },
  {
   "cell_type": "code",
   "execution_count": null,
   "id": "bfe8b2a8",
   "metadata": {},
   "outputs": [],
   "source": []
  }
 ],
 "metadata": {
  "kernelspec": {
   "display_name": "Python 3",
   "language": "python",
   "name": "python3"
  },
  "language_info": {
   "codemirror_mode": {
    "name": "ipython",
    "version": 3
   },
   "file_extension": ".py",
   "mimetype": "text/x-python",
   "name": "python",
   "nbconvert_exporter": "python",
   "pygments_lexer": "ipython3",
   "version": "3.8.8"
  }
 },
 "nbformat": 4,
 "nbformat_minor": 5
}
